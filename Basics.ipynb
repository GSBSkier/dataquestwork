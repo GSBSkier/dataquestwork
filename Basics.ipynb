{
 "cells": [
  {
   "cell_type": "code",
   "execution_count": 3,
   "metadata": {
    "collapsed": false
   },
   "outputs": [
    {
     "name": "stdout",
     "output_type": "stream",
     "text": [
      "[['', 'year', 'month', 'intent', 'police', 'sex', 'age', 'race', 'hispanic', 'place', 'education'], ['1', '2012', '01', 'Suicide', '0', 'M', '34', 'Asian/Pacific Islander', '100', 'Home', '4'], ['2', '2012', '01', 'Suicide', '0', 'F', '21', 'White', '100', 'Street', '3'], ['3', '2012', '01', 'Suicide', '0', 'M', '60', 'White', '100', 'Other specified', '4'], ['4', '2012', '02', 'Suicide', '0', 'M', '64', 'White', '100', 'Home', '4']]\n"
     ]
    }
   ],
   "source": [
    "import csv\n",
    "f=open(\"guns.csv\")\n",
    "raw=csv.reader(f)\n",
    "data=list(raw)\n",
    "print(data[:5])"
   ]
  },
  {
   "cell_type": "code",
   "execution_count": 4,
   "metadata": {
    "collapsed": false
   },
   "outputs": [
    {
     "name": "stdout",
     "output_type": "stream",
     "text": [
      "['', 'year', 'month', 'intent', 'police', 'sex', 'age', 'race', 'hispanic', 'place', 'education']\n"
     ]
    }
   ],
   "source": [
    "header=data[0]\n",
    "data=data[1:]\n",
    "print(header)\n"
   ]
  },
  {
   "cell_type": "code",
   "execution_count": 5,
   "metadata": {
    "collapsed": false
   },
   "outputs": [
    {
     "data": {
      "text/plain": [
       "{'2012': 33563, '2013': 33636, '2014': 33599}"
      ]
     },
     "execution_count": 5,
     "metadata": {},
     "output_type": "execute_result"
    }
   ],
   "source": [
    "years=[x[1] for x in data]\n",
    "year_counts={}\n",
    "for rr in years:\n",
    "    if rr in year_counts:\n",
    "        year_counts[rr]+=1\n",
    "    else:\n",
    "        year_counts[rr]=1\n",
    "year_counts "
   ]
  },
  {
   "cell_type": "code",
   "execution_count": 6,
   "metadata": {
    "collapsed": false
   },
   "outputs": [
    {
     "name": "stdout",
     "output_type": "stream",
     "text": [
      "{datetime.datetime(2014, 11, 1, 0, 0): 2756, datetime.datetime(2012, 4, 1, 0, 0): 2795, datetime.datetime(2014, 10, 1, 0, 0): 2865, datetime.datetime(2014, 4, 1, 0, 0): 2862, datetime.datetime(2012, 6, 1, 0, 0): 2826, datetime.datetime(2014, 7, 1, 0, 0): 2884, datetime.datetime(2014, 12, 1, 0, 0): 2857, datetime.datetime(2012, 2, 1, 0, 0): 2357, datetime.datetime(2013, 1, 1, 0, 0): 2864, datetime.datetime(2014, 9, 1, 0, 0): 2914, datetime.datetime(2013, 3, 1, 0, 0): 2862, datetime.datetime(2014, 3, 1, 0, 0): 2684, datetime.datetime(2013, 12, 1, 0, 0): 2765, datetime.datetime(2012, 12, 1, 0, 0): 2791, datetime.datetime(2012, 8, 1, 0, 0): 2954, datetime.datetime(2014, 1, 1, 0, 0): 2651, datetime.datetime(2013, 6, 1, 0, 0): 2920, datetime.datetime(2012, 9, 1, 0, 0): 2852, datetime.datetime(2012, 3, 1, 0, 0): 2743, datetime.datetime(2013, 9, 1, 0, 0): 2742, datetime.datetime(2012, 11, 1, 0, 0): 2729, datetime.datetime(2013, 11, 1, 0, 0): 2758, datetime.datetime(2012, 7, 1, 0, 0): 3026, datetime.datetime(2014, 2, 1, 0, 0): 2361, datetime.datetime(2013, 7, 1, 0, 0): 3079, datetime.datetime(2013, 10, 1, 0, 0): 2808, datetime.datetime(2013, 4, 1, 0, 0): 2798, datetime.datetime(2012, 10, 1, 0, 0): 2733, datetime.datetime(2013, 8, 1, 0, 0): 2859, datetime.datetime(2013, 2, 1, 0, 0): 2375, datetime.datetime(2013, 5, 1, 0, 0): 2806, datetime.datetime(2014, 8, 1, 0, 0): 2970, datetime.datetime(2014, 6, 1, 0, 0): 2931, datetime.datetime(2012, 1, 1, 0, 0): 2758, datetime.datetime(2014, 5, 1, 0, 0): 2864, datetime.datetime(2012, 5, 1, 0, 0): 2999}\n"
     ]
    }
   ],
   "source": [
    "import datetime\n",
    "dates=[datetime.datetime(int(x[1]),int(x[2]),1) for x in data]\n",
    "date_counts={}\n",
    "for rr in dates:\n",
    "    if rr in date_counts:\n",
    "        date_counts[rr]+=1\n",
    "    else:\n",
    "        date_counts[rr]=1\n",
    "print(date_counts)"
   ]
  },
  {
   "cell_type": "code",
   "execution_count": 7,
   "metadata": {
    "collapsed": true
   },
   "outputs": [],
   "source": [
    "def GenCount(data,column):\n",
    "    counts={}\n",
    "    for rr in data:\n",
    "        if rr[column] in counts:\n",
    "            counts[rr[column]]+=1\n",
    "        else:\n",
    "            counts[rr[column]]=1\n",
    "    return counts"
   ]
  },
  {
   "cell_type": "code",
   "execution_count": 8,
   "metadata": {
    "collapsed": false
   },
   "outputs": [
    {
     "name": "stdout",
     "output_type": "stream",
     "text": [
      "{'F': 14449, 'M': 86349}\n",
      "{'Native American/Native Alaskan': 917, 'Asian/Pacific Islander': 1326, 'White': 66237, 'Hispanic': 9022, 'Black': 23296}\n"
     ]
    }
   ],
   "source": [
    "sex_counts=GenCount(data,5)\n",
    "race_counts=GenCount(data,7)\n",
    "print(sex_counts)\n",
    "print(race_counts)"
   ]
  },
  {
   "cell_type": "markdown",
   "metadata": {},
   "source": [
    "# What I've Learned\n",
    "Men are the gender that is most at risk"
   ]
  },
  {
   "cell_type": "code",
   "execution_count": 9,
   "metadata": {
    "collapsed": false
   },
   "outputs": [
    {
     "name": "stdout",
     "output_type": "stream",
     "text": [
      "['Id', 'Year', 'Id', 'Sex', 'Id', 'Hispanic Origin', 'Id', 'Id2', 'Geography', 'Total', 'Race Alone - White', 'Race Alone - Hispanic', 'Race Alone - Black or African American', 'Race Alone - American Indian and Alaska Native', 'Race Alone - Asian', 'Race Alone - Native Hawaiian and Other Pacific Islander', 'Two or More Races']\n"
     ]
    }
   ],
   "source": [
    "fi=open(\"census.csv\")\n",
    "census=list(csv.reader(fi))\n",
    "print(census[0])"
   ]
  },
  {
   "cell_type": "code",
   "execution_count": 10,
   "metadata": {
    "collapsed": false
   },
   "outputs": [
    {
     "name": "stdout",
     "output_type": "stream",
     "text": [
      "Race Alone - Asian\n",
      "15159516\n",
      "674625\n",
      "{'Native American/Native Alaskan': '3739506', 'Black': '40250635', 'White': '197318956', 'Hispanic': '44618105', 'Asian/Pacific Islander': 15834141.0}\n",
      "{'Native American/Native Alaskan': 24.521955573811088, 'Asian/Pacific Islander': 8.374309664161762, 'White': 33.56849303419181, 'Hispanic': 20.220491210910907, 'Black': 57.8773477735196}\n"
     ]
    }
   ],
   "source": [
    "census1={}\n",
    "for ii in range(0,len(census[1])-1):\n",
    "    census1[census[0][ii]]=census[1][ii]\n",
    "    \n",
    "censusdict={\"Race Alone - White\": \"White\",\"Race Alone - Black or African American\" :\"Black\",\"Race Alone - Hispanic\":\"Hispanic\",\n",
    "           \"Race Alone - American Indian and Alaska Native\" :\"Native American/Native Alaskan\",\"Race Alone - Asian\": \"Asian/Pacific Islander\",\n",
    "           \"Race Alone - Native Hawaiian and Other Pacific Islander\" : \"Asian/Pacific Islander\"}\n",
    "racepop={}\n",
    "for rr in censusdict.keys():\n",
    "    if censusdict[rr] in racepop:\n",
    "        print(rr)\n",
    "        print(census1[rr])\n",
    "        print(racepop[censusdict[rr]])\n",
    "        racepop[censusdict[rr]]=float(census1[rr])+float(racepop[censusdict[rr]])\n",
    "    else:\n",
    "        racepop[censusdict[rr]]=census1[rr]\n",
    "\n",
    "print(racepop)\n",
    "race_per_hundredk={}\n",
    "\n",
    "for item in race_counts.keys():\n",
    "    pop = float(racepop[item])\n",
    "    race_per_hundredk[item]=race_counts[item] / pop *100000\n",
    "\n",
    "print(race_per_hundredk)\n",
    "\n"
   ]
  },
  {
   "cell_type": "code",
   "execution_count": 12,
   "metadata": {
    "collapsed": false
   },
   "outputs": [
    {
     "name": "stdout",
     "output_type": "stream",
     "text": [
      "{'Native American/Native Alaskan': 326, 'Asian/Pacific Islander': 559, 'White': 9147, 'Hispanic': 5634, 'Black': 19510}\n",
      "{'Native American/Native Alaskan': 8.717729026240365, 'Asian/Pacific Islander': 3.530346230970155, 'White': 4.6356417981453335, 'Hispanic': 12.627161104219914, 'Black': 48.471284987180944}\n"
     ]
    }
   ],
   "source": [
    "intents=[x[3] for x in data]\n",
    "races=[x[7] for x in data]\n",
    "homicide_race_counts={}\n",
    "for ii, race in enumerate(races):\n",
    "    if race not in homicide_race_counts:\n",
    "        homicide_race_counts[race]=0\n",
    "    if intents[ii]=='Homicide':\n",
    "        homicide_race_counts[race]+=1\n",
    "\n",
    "homicide_per_hundredk={}\n",
    "for item in homicide_race_counts.keys():\n",
    "    pop = float(racepop[item])\n",
    "    homicide_per_hundredk[item]=homicide_race_counts[item] / pop *100000\n",
    "print(homicide_race_counts)\n",
    "print(homicide_per_hundredk)"
   ]
  },
  {
   "cell_type": "code",
   "execution_count": null,
   "metadata": {
    "collapsed": true
   },
   "outputs": [],
   "source": []
  }
 ],
 "metadata": {
  "kernelspec": {
   "display_name": "Python 3",
   "language": "python",
   "name": "python3"
  },
  "language_info": {
   "codemirror_mode": {
    "name": "ipython",
    "version": 3
   },
   "file_extension": ".py",
   "mimetype": "text/x-python",
   "name": "python",
   "nbconvert_exporter": "python",
   "pygments_lexer": "ipython3",
   "version": "3.4.3"
  }
 },
 "nbformat": 4,
 "nbformat_minor": 0
}
